{
  "nbformat": 4,
  "nbformat_minor": 0,
  "metadata": {
    "colab": {
      "provenance": [],
      "gpuType": "T4"
    },
    "kernelspec": {
      "name": "python3",
      "display_name": "Python 3"
    },
    "language_info": {
      "name": "python"
    },
    "accelerator": "GPU"
  },
  "cells": [
    {
      "cell_type": "markdown",
      "source": [
        "# HubermanLab Summarizer\n",
        "\n"
      ],
      "metadata": {
        "id": "It89APiAtTUF"
      }
    },
    {
      "cell_type": "markdown",
      "source": [
        "## Installing and importing necessary libraries"
      ],
      "metadata": {
        "id": "zySwXur1hA4y"
      }
    },
    {
      "cell_type": "code",
      "source": [
        "!pip install -q --upgrade torch==2.5.1+cu124 torchvision==0.20.1+cu124 torchaudio==2.5.1+cu124 --index-url https://download.pytorch.org/whl/cu124\n",
        "!pip install -q requests bitsandbytes==0.46.0 transformers==4.48.3 accelerate==1.3.0 openai\n",
        "!pip install feedparser"
      ],
      "metadata": {
        "id": "f2vvgnFpHpID",
        "colab": {
          "base_uri": "https://localhost:8080/"
        },
        "outputId": "6a292e83-f9eb-4ad1-bd25-cb194b4b7c97"
      },
      "execution_count": null,
      "outputs": [
        {
          "output_type": "stream",
          "name": "stdout",
          "text": [
            "\u001b[2K     \u001b[90m━━━━━━━━━━━━━━━━━━━━━━━━━━━━━━━━━━━━━━━\u001b[0m \u001b[32m908.2/908.2 MB\u001b[0m \u001b[31m1.5 MB/s\u001b[0m eta \u001b[36m0:00:00\u001b[0m\n",
            "\u001b[2K     \u001b[90m━━━━━━━━━━━━━━━━━━━━━━━━━━━━━━━━━━━━━━━━\u001b[0m \u001b[32m7.3/7.3 MB\u001b[0m \u001b[31m62.1 MB/s\u001b[0m eta \u001b[36m0:00:00\u001b[0m\n",
            "\u001b[2K     \u001b[90m━━━━━━━━━━━━━━━━━━━━━━━━━━━━━━━━━━━━━━━━\u001b[0m \u001b[32m3.4/3.4 MB\u001b[0m \u001b[31m51.0 MB/s\u001b[0m eta \u001b[36m0:00:00\u001b[0m\n",
            "\u001b[2K     \u001b[90m━━━━━━━━━━━━━━━━━━━━━━━━━━━━━━━━━━━━━━━━\u001b[0m \u001b[32m24.6/24.6 MB\u001b[0m \u001b[31m60.8 MB/s\u001b[0m eta \u001b[36m0:00:00\u001b[0m\n",
            "\u001b[2K     \u001b[90m━━━━━━━━━━━━━━━━━━━━━━━━━━━━━━━━━━━━━━\u001b[0m \u001b[32m883.7/883.7 kB\u001b[0m \u001b[31m20.7 MB/s\u001b[0m eta \u001b[36m0:00:00\u001b[0m\n",
            "\u001b[2K     \u001b[90m━━━━━━━━━━━━━━━━━━━━━━━━━━━━━━━━━━━━━━━━\u001b[0m \u001b[32m13.8/13.8 MB\u001b[0m \u001b[31m90.5 MB/s\u001b[0m eta \u001b[36m0:00:00\u001b[0m\n",
            "\u001b[2K     \u001b[90m━━━━━━━━━━━━━━━━━━━━━━━━━━━━━━━━━━━━━━━\u001b[0m \u001b[32m664.8/664.8 MB\u001b[0m \u001b[31m2.8 MB/s\u001b[0m eta \u001b[36m0:00:00\u001b[0m\n",
            "\u001b[2K     \u001b[90m━━━━━━━━━━━━━━━━━━━━━━━━━━━━━━━━━━━━━━━\u001b[0m \u001b[32m363.4/363.4 MB\u001b[0m \u001b[31m4.1 MB/s\u001b[0m eta \u001b[36m0:00:00\u001b[0m\n",
            "\u001b[2K     \u001b[90m━━━━━━━━━━━━━━━━━━━━━━━━━━━━━━━━━━━━━━━\u001b[0m \u001b[32m211.5/211.5 MB\u001b[0m \u001b[31m5.9 MB/s\u001b[0m eta \u001b[36m0:00:00\u001b[0m\n",
            "\u001b[2K     \u001b[90m━━━━━━━━━━━━━━━━━━━━━━━━━━━━━━━━━━━━━━━━\u001b[0m \u001b[32m56.3/56.3 MB\u001b[0m \u001b[31m15.2 MB/s\u001b[0m eta \u001b[36m0:00:00\u001b[0m\n",
            "\u001b[2K     \u001b[90m━━━━━━━━━━━━━━━━━━━━━━━━━━━━━━━━━━━━━━━\u001b[0m \u001b[32m127.9/127.9 MB\u001b[0m \u001b[31m7.8 MB/s\u001b[0m eta \u001b[36m0:00:00\u001b[0m\n",
            "\u001b[2K     \u001b[90m━━━━━━━━━━━━━━━━━━━━━━━━━━━━━━━━━━━━━━━\u001b[0m \u001b[32m207.5/207.5 MB\u001b[0m \u001b[31m5.6 MB/s\u001b[0m eta \u001b[36m0:00:00\u001b[0m\n",
            "\u001b[2K     \u001b[90m━━━━━━━━━━━━━━━━━━━━━━━━━━━━━━━━━━━━━━━\u001b[0m \u001b[32m188.7/188.7 MB\u001b[0m \u001b[31m6.2 MB/s\u001b[0m eta \u001b[36m0:00:00\u001b[0m\n",
            "\u001b[2K     \u001b[90m━━━━━━━━━━━━━━━━━━━━━━━━━━━━━━━━━━━━━━━━\u001b[0m \u001b[32m99.1/99.1 kB\u001b[0m \u001b[31m8.3 MB/s\u001b[0m eta \u001b[36m0:00:00\u001b[0m\n",
            "\u001b[2K     \u001b[90m━━━━━━━━━━━━━━━━━━━━━━━━━━━━━━━━━━━━━━━\u001b[0m \u001b[32m21.1/21.1 MB\u001b[0m \u001b[31m109.2 MB/s\u001b[0m eta \u001b[36m0:00:00\u001b[0m\n",
            "\u001b[2K     \u001b[90m━━━━━━━━━━━━━━━━━━━━━━━━━━━━━━━━━━━━━━━\u001b[0m \u001b[32m209.6/209.6 MB\u001b[0m \u001b[31m5.6 MB/s\u001b[0m eta \u001b[36m0:00:00\u001b[0m\n",
            "\u001b[2K     \u001b[90m━━━━━━━━━━━━━━━━━━━━━━━━━━━━━━━━━━━━━━━━\u001b[0m \u001b[32m6.2/6.2 MB\u001b[0m \u001b[31m99.3 MB/s\u001b[0m eta \u001b[36m0:00:00\u001b[0m\n",
            "\u001b[2K     \u001b[90m━━━━━━━━━━━━━━━━━━━━━━━━━━━━━━━━━━━━━━━━\u001b[0m \u001b[32m44.4/44.4 kB\u001b[0m \u001b[31m2.9 MB/s\u001b[0m eta \u001b[36m0:00:00\u001b[0m\n",
            "\u001b[2K   \u001b[90m━━━━━━━━━━━━━━━━━━━━━━━━━━━━━━━━━━━━━━━━\u001b[0m \u001b[32m67.0/67.0 MB\u001b[0m \u001b[31m12.2 MB/s\u001b[0m eta \u001b[36m0:00:00\u001b[0m\n",
            "\u001b[2K   \u001b[90m━━━━━━━━━━━━━━━━━━━━━━━━━━━━━━━━━━━━━━━━\u001b[0m \u001b[32m9.7/9.7 MB\u001b[0m \u001b[31m126.9 MB/s\u001b[0m eta \u001b[36m0:00:00\u001b[0m\n",
            "\u001b[2K   \u001b[90m━━━━━━━━━━━━━━━━━━━━━━━━━━━━━━━━━━━━━━━━\u001b[0m \u001b[32m336.6/336.6 kB\u001b[0m \u001b[31m29.2 MB/s\u001b[0m eta \u001b[36m0:00:00\u001b[0m\n",
            "\u001b[2K   \u001b[90m━━━━━━━━━━━━━━━━━━━━━━━━━━━━━━━━━━━━━━━━\u001b[0m \u001b[32m3.1/3.1 MB\u001b[0m \u001b[31m106.7 MB/s\u001b[0m eta \u001b[36m0:00:00\u001b[0m\n",
            "\u001b[?25hCollecting feedparser\n",
            "  Downloading feedparser-6.0.12-py3-none-any.whl.metadata (2.7 kB)\n",
            "Collecting sgmllib3k (from feedparser)\n",
            "  Downloading sgmllib3k-1.0.0.tar.gz (5.8 kB)\n",
            "  Preparing metadata (setup.py) ... \u001b[?25l\u001b[?25hdone\n",
            "Downloading feedparser-6.0.12-py3-none-any.whl (81 kB)\n",
            "\u001b[2K   \u001b[90m━━━━━━━━━━━━━━━━━━━━━━━━━━━━━━━━━━━━━━━━\u001b[0m \u001b[32m81.5/81.5 kB\u001b[0m \u001b[31m4.5 MB/s\u001b[0m eta \u001b[36m0:00:00\u001b[0m\n",
            "\u001b[?25hBuilding wheels for collected packages: sgmllib3k\n",
            "  Building wheel for sgmllib3k (setup.py) ... \u001b[?25l\u001b[?25hdone\n",
            "  Created wheel for sgmllib3k: filename=sgmllib3k-1.0.0-py3-none-any.whl size=6046 sha256=71d31210c4be90cc7f85e75de955e30dbd1835752c822672353cb435e33aeb97\n",
            "  Stored in directory: /root/.cache/pip/wheels/03/f5/1a/23761066dac1d0e8e683e5fdb27e12de53209d05a4a37e6246\n",
            "Successfully built sgmllib3k\n",
            "Installing collected packages: sgmllib3k, feedparser\n",
            "Successfully installed feedparser-6.0.12 sgmllib3k-1.0.0\n"
          ]
        }
      ]
    },
    {
      "cell_type": "code",
      "execution_count": null,
      "metadata": {
        "id": "FW8nl3XRFrz0"
      },
      "outputs": [],
      "source": [
        "# imports\n",
        "\n",
        "import os\n",
        "import requests\n",
        "from IPython.display import Markdown, display, update_display\n",
        "from openai import OpenAI\n",
        "from google.colab import drive\n",
        "from huggingface_hub import login\n",
        "from google.colab import userdata\n",
        "from transformers import AutoTokenizer, AutoModelForCausalLM, TextStreamer, BitsAndBytesConfig, AutoModelForSpeechSeq2Seq, AutoProcessor, pipeline\n",
        "import torch\n",
        "import feedparser\n",
        "import re\n",
        "from urllib.parse import urlparse\n",
        "from pathlib import Path\n",
        "from IPython.display import Markdown, display\n"
      ]
    },
    {
      "cell_type": "markdown",
      "source": [
        "## Define classes and functions"
      ],
      "metadata": {
        "id": "G3usTl5xhR5S"
      }
    },
    {
      "cell_type": "code",
      "source": [
        "class PodcastDownloader:\n",
        "    def __init__(self, rss_url=None):\n",
        "        # Huberman Lab RSS feed (you can change this to any podcast RSS)\n",
        "        self.rss_url = rss_url or \"https://feeds.megaphone.fm/hubermanlab\"\n",
        "        self.episodes = []\n",
        "        self.load_episodes()\n",
        "\n",
        "    def load_episodes(self):\n",
        "        \"\"\"Load episodes from RSS feed\"\"\"\n",
        "        try:\n",
        "            print(\"Loading episodes from RSS feed...\")\n",
        "            feed = feedparser.parse(self.rss_url)\n",
        "\n",
        "            if feed.bozo:\n",
        "                print(\"Warning: RSS feed might have issues\")\n",
        "\n",
        "            self.episodes = []\n",
        "            for i, entry in enumerate(feed.entries):\n",
        "                # Find the audio URL\n",
        "                audio_url = None\n",
        "                for link in entry.links:\n",
        "                    if 'audio' in link.type.lower():\n",
        "                        audio_url = link.href\n",
        "                        break\n",
        "\n",
        "                # Fallback: look for enclosures\n",
        "                if not audio_url and hasattr(entry, 'enclosures'):\n",
        "                    for enclosure in entry.enclosures:\n",
        "                        if 'audio' in enclosure.type.lower():\n",
        "                            audio_url = enclosure.href\n",
        "                            break\n",
        "\n",
        "                if audio_url:\n",
        "                    episode_info = {\n",
        "                        'number': i + 1,\n",
        "                        'title': entry.title,\n",
        "                        'audio_url': audio_url,\n",
        "                        'published': entry.published if hasattr(entry, 'published') else 'Unknown',\n",
        "                        'description': entry.summary if hasattr(entry, 'summary') else ''\n",
        "                    }\n",
        "                    self.episodes.append(episode_info)\n",
        "\n",
        "            print(f\"Loaded {len(self.episodes)} episodes\")\n",
        "\n",
        "        except Exception as e:\n",
        "            print(f\"Error loading RSS feed: {e}\")\n",
        "            return False\n",
        "\n",
        "        return True\n",
        "\n",
        "    def list_episodes(self, limit=10, keywords=None):\n",
        "        \"\"\"List available episodes with optional keyword filtering\"\"\"\n",
        "        if not self.episodes:\n",
        "            print(\"No episodes loaded\")\n",
        "            return []\n",
        "\n",
        "        episodes_to_show = self.episodes\n",
        "\n",
        "        # Apply keyword filtering if provided\n",
        "        if keywords:\n",
        "            episodes_to_show = self.filter_episodes(keywords)\n",
        "            if not episodes_to_show:\n",
        "                print(f\"No episodes found matching keywords: {keywords}\")\n",
        "                return []\n",
        "\n",
        "        # Limit results\n",
        "        episodes_to_show = episodes_to_show[:limit]\n",
        "\n",
        "        filter_text = f\" (filtered by: {keywords})\" if keywords else \"\"\n",
        "        print(f\"\\nShowing {len(episodes_to_show)} episodes{filter_text}:\")\n",
        "        print(\"-\" * 80)\n",
        "\n",
        "        for episode in episodes_to_show:\n",
        "            title = episode['title'][:60] + \"...\" if len(episode['title']) > 60 else episode['title']\n",
        "            print(f\"{episode['number']:3d}. {title}\")\n",
        "            print(f\"     Published: {episode['published']}\")\n",
        "            print()\n",
        "\n",
        "        return episodes_to_show\n",
        "\n",
        "    def sanitize_filename(self, filename):\n",
        "        \"\"\"Remove invalid characters from filename\"\"\"\n",
        "        # Remove/replace invalid characters\n",
        "        filename = re.sub(r'[<>:\"/\\\\|?*]', '', filename)\n",
        "        filename = re.sub(r'[\\s]+', ' ', filename)  # Replace multiple spaces with single space\n",
        "        return filename.strip()\n",
        "\n",
        "    def filter_episodes(self, keywords, search_in_description=False):\n",
        "        \"\"\"Filter episodes by keywords (case-insensitive)\"\"\"\n",
        "        if not keywords:\n",
        "            return self.episodes\n",
        "\n",
        "        # Convert keywords to list if string\n",
        "        if isinstance(keywords, str):\n",
        "            keywords = [keywords]\n",
        "\n",
        "        # Convert all keywords to lowercase for case-insensitive search\n",
        "        keywords = [kw.lower() for kw in keywords]\n",
        "\n",
        "        filtered = []\n",
        "        for episode in self.episodes:\n",
        "            # Search in title (always)\n",
        "            search_text = episode['title'].lower()\n",
        "\n",
        "            # Optionally search in description\n",
        "            if search_in_description and episode['description']:\n",
        "                search_text += \" \" + episode['description'].lower()\n",
        "\n",
        "            # Check if ANY keyword matches\n",
        "            if any(keyword in search_text for keyword in keywords):\n",
        "                filtered.append(episode)\n",
        "\n",
        "        return filtered\n",
        "\n",
        "    def search_episodes(self, keywords, limit=20, search_in_description=False):\n",
        "        \"\"\"Search for episodes containing specific keywords\"\"\"\n",
        "        filtered_episodes = self.filter_episodes(keywords, search_in_description)\n",
        "\n",
        "        if not filtered_episodes:\n",
        "            print(f\"No episodes found matching: {keywords}\")\n",
        "            return []\n",
        "\n",
        "        print(f\"\\nFound {len(filtered_episodes)} episodes matching: {keywords}\")\n",
        "        print(\"-\" * 80)\n",
        "\n",
        "        for episode in filtered_episodes[:limit]:\n",
        "            title = episode['title'][:100] + \"...\" if len(episode['title']) > 60 else episode['title']\n",
        "            print(f\"{episode['number']:3d}. {title}\")\n",
        "            print(f\"     Published: {episode['published']}\")\n",
        "\n",
        "            #Show snippet of description if searching in description\n",
        "            # if search_in_description and episode['description']:\n",
        "            #     desc_snippet = episode['description'][:100] + \"...\" if len(episode['description']) > 100 else episode['description']\n",
        "            #     print(f\"     {desc_snippet}\")\n",
        "            # print()\n",
        "\n",
        "        #return [ep['number'] for ep in filtered_episodes]\n",
        "\n",
        "    def download_filtered_episodes(self, keywords, download_path=\"/content/drive/MyDrive/Podcasts/HubermanLab\", max_downloads=5, search_in_description=False):\n",
        "        \"\"\"Download episodes matching keywords\"\"\"\n",
        "        filtered_episodes = self.filter_episodes(keywords, search_in_description)\n",
        "\n",
        "        if not filtered_episodes:\n",
        "            print(f\"No episodes found matching: {keywords}\")\n",
        "            return []\n",
        "\n",
        "        print(f\"Found {len(filtered_episodes)} episodes matching: {keywords}\")\n",
        "\n",
        "        if len(filtered_episodes) > max_downloads:\n",
        "            print(f\"Limiting to {max_downloads} downloads (set max_downloads parameter to change)\")\n",
        "            filtered_episodes = filtered_episodes[:max_downloads]\n",
        "\n",
        "        episode_numbers = [ep['number'] for ep in filtered_episodes]\n",
        "        self.download_multiple(episode_numbers, download_path)\n",
        "\n",
        "        return episode_numbers\n",
        "\n",
        "    def download_episode(self, episode_number, download_path=\"/content/drive/MyDrive/Podcasts/HubermanLab\"):\n",
        "        \"\"\"Download a specific episode by number\"\"\"\n",
        "        if not self.episodes:\n",
        "            print(\"No episodes loaded\")\n",
        "            return False\n",
        "\n",
        "        if episode_number < 1 or episode_number > len(self.episodes):\n",
        "            print(f\"Invalid episode number. Available: 1-{len(self.episodes)}\")\n",
        "            return False\n",
        "\n",
        "        episode = self.episodes[episode_number - 1]\n",
        "\n",
        "        # Create download directory\n",
        "        os.makedirs(download_path, exist_ok=True)\n",
        "\n",
        "        # Generate filename\n",
        "        safe_title = self.sanitize_filename(episode['title'])\n",
        "        filename = f\"Episode_{episode_number:03d}_{safe_title}.mp3\"\n",
        "        filepath = os.path.join(download_path, filename)\n",
        "\n",
        "        print(f\"Downloading: {episode['title']}\")\n",
        "        print(f\"URL: {episode['audio_url']}\")\n",
        "        print(f\"Saving to: {filepath}\")\n",
        "\n",
        "        try:\n",
        "            # Download with progress\n",
        "            response = requests.get(episode['audio_url'], stream=True)\n",
        "            response.raise_for_status()\n",
        "\n",
        "            total_size = int(response.headers.get('content-length', 0))\n",
        "            downloaded_size = 0\n",
        "\n",
        "            with open(filepath, 'wb') as f:\n",
        "                for chunk in response.iter_content(chunk_size=8192):\n",
        "                    if chunk:\n",
        "                        f.write(chunk)\n",
        "                        downloaded_size += len(chunk)\n",
        "\n",
        "                        if total_size > 0:\n",
        "                            progress = (downloaded_size / total_size) * 100\n",
        "                            print(f\"\\rProgress: {progress:.1f}%\", end=\"\", flush=True)\n",
        "\n",
        "            print(f\"\\n✓ Successfully downloaded: {filename}\")\n",
        "            print(f\"File size: {downloaded_size / (1024*1024):.1f} MB\")\n",
        "            print(f\"File path: {filepath}\")\n",
        "            return filepath\n",
        "\n",
        "        except Exception as e:\n",
        "            print(f\"\\n✗ Error downloading episode: {e}\")\n",
        "            # Clean up partial file\n",
        "            if os.path.exists(filepath):\n",
        "                os.remove(filepath)\n",
        "            return False\n",
        "\n",
        "    def get_episode_path(self, episode_number, download_path=\"/content/drive/MyDrive/Podcasts/HubermanLab\"):\n",
        "        \"\"\"Get the file path for a specific episode (useful if already downloaded)\"\"\"\n",
        "        if not self.episodes:\n",
        "            print(\"No episodes loaded\")\n",
        "            return None\n",
        "\n",
        "        if episode_number < 1 or episode_number > len(self.episodes):\n",
        "            print(f\"Invalid episode number. Available: 1-{len(self.episodes)}\")\n",
        "            return None\n",
        "\n",
        "        episode = self.episodes[episode_number - 1]\n",
        "        safe_title = self.sanitize_filename(episode['title'])\n",
        "        filename = f\"Episode_{episode_number:03d}_{safe_title}.mp3\"\n",
        "        filepath = os.path.join(download_path, filename)\n",
        "\n",
        "        if os.path.exists(filepath):\n",
        "            return filepath\n",
        "        else:\n",
        "            print(f\"File not found: {filepath}\")\n",
        "            return None\n",
        "\n",
        "    def get_downloaded_episodes(self, download_path=\"/content/drive/MyDrive/Podcasts/HubermanLab\"):\n",
        "        \"\"\"Get episode numbers of already downloaded episodes\"\"\"\n",
        "        if not os.path.exists(download_path):\n",
        "            print(f\"Download path doesn't exist: {download_path}\")\n",
        "            return []\n",
        "\n",
        "        downloaded = []\n",
        "        for filename in os.listdir(download_path):\n",
        "            if filename.startswith(\"Episode_\") and filename.endswith(\".mp3\"):\n",
        "                # Extract episode number from filename (Episode_001_Title.mp3)\n",
        "                episode_num = int(filename.split(\"_\")[1])\n",
        "                downloaded.append(episode_num)\n",
        "\n",
        "        downloaded.sort()\n",
        "        print(f\"Found {len(downloaded)} downloaded episodes: {downloaded}\")\n",
        "        return downloaded\n",
        "\n",
        "    def download_multiple(self, episode_numbers, download_path=\"/content/podcasts\"):\n",
        "        \"\"\"Download multiple episodes\"\"\"\n",
        "        successful = 0\n",
        "        failed = 0\n",
        "\n",
        "        for ep_num in episode_numbers:\n",
        "            print(f\"\\n{'='*60}\")\n",
        "            if self.download_episode(ep_num, download_path):\n",
        "                successful += 1\n",
        "            else:\n",
        "                failed += 1\n",
        "\n",
        "        print(f\"\\n{'='*60}\")\n",
        "        print(f\"Download Summary:\")\n",
        "        print(f\"✓ Successful: {successful}\")\n",
        "        print(f\"✗ Failed: {failed}\")\n",
        "\n",
        "# Initialize downloader\n",
        "#downloader = PodcastDownloader()\n",
        "\n",
        "# List latest episodes\n",
        "#downloader.list_episodes(15)\n",
        "\n",
        "# print(\"\\n\" + \"=\"*60)\n",
        "# print(\"PODCAST DOWNLOADER READY!\")\n",
        "# print(\"=\"*60)\n",
        "# print(\"✓ Episodes loaded and ready for download\")\n",
        "# print(\"\\nAVAILABLE COMMANDS:\")\n",
        "# print(\"=\"*60)\n",
        "# print(\"# Basic usage:\")\n",
        "# print(\"downloader.download_episode(episode_number)\")\n",
        "# print(\"file_path = downloader.get_episode_path(episode_number)\")\n",
        "# print(\"\\n# Filtering examples:\")\n",
        "# print(\"downloader.search_episodes(['sleep'])\")\n",
        "# print(\"downloader.list_episodes(limit=10, keywords=['sleep'])\")\n",
        "# print(\"downloader.download_filtered_episodes(['sleep'], max_downloads=3)\")\n",
        "# print(\"\\n# Advanced filtering:\")\n",
        "# print(\"downloader.search_episodes(['dopamine', 'motivation'])\")\n",
        "# print(\"downloader.search_episodes(['exercise'], search_in_description=True)\")\n",
        "# print(\"\\n📁 Files will be saved to: /content/drive/MyDrive/Podcasts/HubermanLab/\")"
      ],
      "metadata": {
        "id": "CtxzgnKpADtR"
      },
      "execution_count": null,
      "outputs": []
    },
    {
      "cell_type": "code",
      "source": [
        "def replace_extension(file_path: str, new_ext: str) -> str:\n",
        "    root, _ = os.path.splitext(file_path)\n",
        "    if not new_ext.startswith(\".\"):\n",
        "        new_ext = \".\" + new_ext\n",
        "    return f\"{root + new_ext}\""
      ],
      "metadata": {
        "id": "we2664Kf55N8"
      },
      "execution_count": null,
      "outputs": []
    },
    {
      "cell_type": "markdown",
      "source": [
        "## Now, initialize and setup up constants"
      ],
      "metadata": {
        "id": "aYge4InHhwOd"
      }
    },
    {
      "cell_type": "code",
      "source": [
        "# Constants\n",
        "#AUDIO_MODEL = \"whisper-1\"\n",
        "LLAMA = \"meta-llama/Meta-Llama-3.1-8B-Instruct\""
      ],
      "metadata": {
        "id": "q3D1_T0uG_Qh"
      },
      "execution_count": null,
      "outputs": []
    },
    {
      "cell_type": "code",
      "source": [
        "# Mount Google Drive (run this first if you want to save to Drive)\n",
        "\n",
        "drive.mount(\"/content/drive\")"
      ],
      "metadata": {
        "colab": {
          "base_uri": "https://localhost:8080/"
        },
        "id": "-ulz_HXJxqZz",
        "outputId": "49ff8fdc-4f89-404a-b567-30b7b40389f5"
      },
      "execution_count": null,
      "outputs": [
        {
          "output_type": "stream",
          "name": "stdout",
          "text": [
            "Mounted at /content/drive\n"
          ]
        }
      ]
    },
    {
      "cell_type": "code",
      "source": [
        "# Sign in to HuggingFace Hub\n",
        "\n",
        "hf_token = userdata.get('HF_TOKEN')\n",
        "login(hf_token, add_to_git_credential=True)"
      ],
      "metadata": {
        "id": "xYW8kQYtF-3L"
      },
      "execution_count": null,
      "outputs": []
    },
    {
      "cell_type": "code",
      "source": [
        "# Sign in to OpenAI using Secrets in Colab\n",
        "\n",
        "openai_api_key = userdata.get('OPENAI_API_KEY')\n",
        "openai = OpenAI(api_key=openai_api_key)"
      ],
      "metadata": {
        "id": "qP6OB2OeGC2C"
      },
      "execution_count": null,
      "outputs": []
    },
    {
      "cell_type": "markdown",
      "source": [
        "## Start with the action !"
      ],
      "metadata": {
        "id": "6YoDrKsKiMpu"
      }
    },
    {
      "cell_type": "markdown",
      "source": [
        "We start by initializing the downloader and listing some episodes to choose"
      ],
      "metadata": {
        "id": "xe3EJaQUiXxE"
      }
    },
    {
      "cell_type": "markdown",
      "source": [
        "We will work with the 'Essentials' series."
      ],
      "metadata": {
        "id": "lXlxbfrda1sS"
      }
    },
    {
      "cell_type": "code",
      "source": [
        "# Initialize downloader\n",
        "downloader = PodcastDownloader()\n",
        "\n",
        "# List latest episodes\n",
        "downloader.search_episodes(['essentials'], search_in_description=True)\n",
        "\n"
      ],
      "metadata": {
        "colab": {
          "base_uri": "https://localhost:8080/"
        },
        "id": "R8W_GNj-ef9Z",
        "outputId": "13febff6-35cb-4411-c92b-d82ac5728518"
      },
      "execution_count": null,
      "outputs": [
        {
          "output_type": "stream",
          "name": "stdout",
          "text": [
            "Loading episodes from RSS feed...\n",
            "Loaded 339 episodes\n",
            "\n",
            "Found 47 episodes matching: ['essentials']\n",
            "--------------------------------------------------------------------------------\n",
            "  1. Essentials: Using Your Nervous System to Enhance Your Immune System...\n",
            "     Published: Thu, 25 Sep 2025 08:00:00 -0000\n",
            "  3. Essentials: How to Exercise for Strength Gains & Hormone Optimization | Dr. Duncan French...\n",
            "     Published: Thu, 18 Sep 2025 08:00:00 -0000\n",
            "  5. Essentials: Food & Supplements for Brain Health & Cognitive Performance...\n",
            "     Published: Thu, 11 Sep 2025 08:00:00 -0000\n",
            "  7. Essentials: Science of Mindsets for Health & Performance | Dr. Alia Crum...\n",
            "     Published: Thu, 04 Sep 2025 08:00:00 -0000\n",
            "  9. Essentials: Effects of Fasting & Time Restricted Eating on Fat Loss & Health...\n",
            "     Published: Thu, 28 Aug 2025 08:00:00 -0000\n",
            " 11. Essentials: Timing Light for Better Sleep, Energy & Mood | Dr. Samer Hattar...\n",
            "     Published: Thu, 21 Aug 2025 08:00:00 -0000\n",
            " 13. Essentials: Controlling Your Dopamine for Motivation, Focus & Satisfaction...\n",
            "     Published: Thu, 14 Aug 2025 08:00:00 -0000\n",
            " 15. Essentials: Increase Strength & Endurance with Cooling Protocols | Dr. Craig Heller...\n",
            "     Published: Thu, 07 Aug 2025 08:00:00 -0000\n",
            " 17. Essentials: ADHD & How Anyone Can Improve Their Focus\n",
            "     Published: Thu, 31 Jul 2025 08:00:00 -0000\n",
            " 19. Essentials: Psychedelics for Treating Mental Disorders | Dr. Matthew Johnson...\n",
            "     Published: Thu, 24 Jul 2025 08:00:00 -0000\n",
            " 21. Essentials: Healthy Eating & Eating Disorders - Anorexia, Bulimia, Binging...\n",
            "     Published: Thu, 17 Jul 2025 08:00:00 -0000\n",
            " 23. Essentials: Science of Stress, Testosterone, Aggression & Motivation | Dr. Robert Sapolsky...\n",
            "     Published: Thu, 10 Jul 2025 08:00:00 -0000\n",
            " 25. Essentials: Understanding & Conquering Depression\n",
            "     Published: Thu, 03 Jul 2025 08:00:00 -0000\n",
            " 27. Essentials: Understanding & Treating Addiction | Dr. Anna Lembke...\n",
            "     Published: Thu, 26 Jun 2025 08:00:00 -0000\n",
            " 29. Essentials: How to Control Your Sense of Pain & Pleasure\n",
            "     Published: Thu, 19 Jun 2025 08:00:00 -0000\n",
            " 31. Essentials: The Science & Practice of Perfecting Your Sleep\n",
            "     Published: Thu, 12 Jun 2025 08:00:00 -0000\n",
            " 33. Essentials: Improving Health With Stronger Brain-Body Connection...\n",
            "     Published: Thu, 05 Jun 2025 08:00:00 -0000\n",
            " 35. Essentials: Machines, Creativity & Love | Dr. Lex Fridman\n",
            "     Published: Thu, 29 May 2025 08:00:00 -0000\n",
            " 37. Essentials: Maximize Productivity, Physical & Mental Health With Daily Tools...\n",
            "     Published: Thu, 22 May 2025 08:00:00 -0000\n",
            " 39. Essentials: Understanding & Healing the Mind | Dr. Karl Deisseroth...\n",
            "     Published: Thu, 15 May 2025 08:00:00 -0000\n"
          ]
        }
      ]
    },
    {
      "cell_type": "code",
      "source": [
        "episodes_numbers = downloader.download_filtered_episodes(['essentials'], max_downloads=46)"
      ],
      "metadata": {
        "id": "yLz6qv_kDr5y"
      },
      "execution_count": null,
      "outputs": []
    },
    {
      "cell_type": "markdown",
      "source": [
        "Now, we load the files paths."
      ],
      "metadata": {
        "id": "HzkSixtoigQn"
      }
    },
    {
      "cell_type": "code",
      "source": [
        "episodes_numbers = downloader.get_downloaded_episodes()\n",
        "\n",
        "files_path = [downloader.get_episode_path(n) for n in episodes_numbers]"
      ],
      "metadata": {
        "id": "wQjVDC3APTDT",
        "colab": {
          "base_uri": "https://localhost:8080/"
        },
        "outputId": "6695fb2e-7ac3-4a43-c0ce-288d7a7338c7"
      },
      "execution_count": null,
      "outputs": [
        {
          "output_type": "stream",
          "name": "stdout",
          "text": [
            "Found 46 downloaded episodes: [1, 3, 5, 7, 9, 11, 13, 15, 17, 19, 21, 23, 25, 27, 29, 31, 33, 35, 37, 39, 41, 43, 46, 48, 50, 52, 54, 56, 58, 60, 62, 64, 66, 68, 70, 72, 74, 76, 78, 80, 82, 84, 86, 88, 90, 92]\n"
          ]
        }
      ]
    },
    {
      "cell_type": "code",
      "source": [
        "files_path"
      ],
      "metadata": {
        "colab": {
          "base_uri": "https://localhost:8080/"
        },
        "id": "0EUSXYdpZnfg",
        "outputId": "321a9bc9-8adf-4438-e7d7-cd27d57cee2c"
      },
      "execution_count": null,
      "outputs": [
        {
          "output_type": "execute_result",
          "data": {
            "text/plain": [
              "['/content/drive/MyDrive/Podcasts/HubermanLab/Episode_001_Essentials Using Your Nervous System to Enhance Your Immune System.mp3',\n",
              " '/content/drive/MyDrive/Podcasts/HubermanLab/Episode_003_Essentials How to Exercise for Strength Gains & Hormone Optimization Dr. Duncan French.mp3',\n",
              " '/content/drive/MyDrive/Podcasts/HubermanLab/Episode_005_Essentials Food & Supplements for Brain Health & Cognitive Performance.mp3',\n",
              " '/content/drive/MyDrive/Podcasts/HubermanLab/Episode_007_Essentials Science of Mindsets for Health & Performance Dr. Alia Crum.mp3',\n",
              " '/content/drive/MyDrive/Podcasts/HubermanLab/Episode_009_Essentials Effects of Fasting & Time Restricted Eating on Fat Loss & Health.mp3',\n",
              " '/content/drive/MyDrive/Podcasts/HubermanLab/Episode_011_Essentials Timing Light for Better Sleep, Energy & Mood Dr. Samer Hattar.mp3',\n",
              " '/content/drive/MyDrive/Podcasts/HubermanLab/Episode_013_Essentials Controlling Your Dopamine for Motivation, Focus & Satisfaction.mp3',\n",
              " '/content/drive/MyDrive/Podcasts/HubermanLab/Episode_015_Essentials Increase Strength & Endurance with Cooling Protocols Dr. Craig Heller.mp3',\n",
              " '/content/drive/MyDrive/Podcasts/HubermanLab/Episode_017_Essentials ADHD & How Anyone Can Improve Their Focus.mp3',\n",
              " '/content/drive/MyDrive/Podcasts/HubermanLab/Episode_019_Essentials Psychedelics for Treating Mental Disorders Dr. Matthew Johnson.mp3',\n",
              " '/content/drive/MyDrive/Podcasts/HubermanLab/Episode_021_Essentials Healthy Eating & Eating Disorders - Anorexia, Bulimia, Binging.mp3',\n",
              " '/content/drive/MyDrive/Podcasts/HubermanLab/Episode_023_Essentials Science of Stress, Testosterone, Aggression & Motivation Dr. Robert Sapolsky.mp3',\n",
              " '/content/drive/MyDrive/Podcasts/HubermanLab/Episode_025_Essentials Understanding & Conquering Depression.mp3',\n",
              " '/content/drive/MyDrive/Podcasts/HubermanLab/Episode_027_Essentials Understanding & Treating Addiction Dr. Anna Lembke.mp3',\n",
              " '/content/drive/MyDrive/Podcasts/HubermanLab/Episode_029_Essentials How to Control Your Sense of Pain & Pleasure.mp3',\n",
              " '/content/drive/MyDrive/Podcasts/HubermanLab/Episode_031_Essentials The Science & Practice of Perfecting Your Sleep.mp3',\n",
              " '/content/drive/MyDrive/Podcasts/HubermanLab/Episode_033_Essentials Improving Health With Stronger Brain-Body Connection.mp3',\n",
              " '/content/drive/MyDrive/Podcasts/HubermanLab/Episode_035_Essentials Machines, Creativity & Love Dr. Lex Fridman.mp3',\n",
              " '/content/drive/MyDrive/Podcasts/HubermanLab/Episode_037_Essentials Maximize Productivity, Physical & Mental Health With Daily Tools.mp3',\n",
              " '/content/drive/MyDrive/Podcasts/HubermanLab/Episode_039_Essentials Understanding & Healing the Mind Dr. Karl Deisseroth.mp3',\n",
              " '/content/drive/MyDrive/Podcasts/HubermanLab/Episode_041_Essentials How Hearing & Balance Enhance Focus & Learning.mp3',\n",
              " '/content/drive/MyDrive/Podcasts/HubermanLab/Episode_043_Essentials How Smell, Taste & Pheromones Shape Behavior.mp3',\n",
              " '/content/drive/MyDrive/Podcasts/HubermanLab/Episode_046_Essentials Protocols to Improve Vision & Eyesight.mp3',\n",
              " '/content/drive/MyDrive/Podcasts/HubermanLab/Episode_048_Essentials How to Build Endurance.mp3',\n",
              " '/content/drive/MyDrive/Podcasts/HubermanLab/Episode_050_Essentials Build Muscle Size, Increase Strength & Improve Recovery.mp3',\n",
              " '/content/drive/MyDrive/Podcasts/HubermanLab/Episode_052_Essentials Lose Fat With Science-Based Tools.mp3',\n",
              " '/content/drive/MyDrive/Podcasts/HubermanLab/Episode_054_Essentials How to Learn Skills Faster.mp3',\n",
              " '/content/drive/MyDrive/Podcasts/HubermanLab/Episode_056_Essentials Supercharge Exercise Performance & Recovery with Cooling.mp3',\n",
              " '/content/drive/MyDrive/Podcasts/HubermanLab/Episode_058_Essentials Boost Your Energy & Immune System with Cortisol & Adrenaline.mp3',\n",
              " '/content/drive/MyDrive/Podcasts/HubermanLab/Episode_060_Essentials How to Control Your Metabolism by Thyroid & Growth Hormone.mp3',\n",
              " '/content/drive/MyDrive/Podcasts/HubermanLab/Episode_062_Essentials How to Control Hunger, Eating & Satiety.mp3',\n",
              " '/content/drive/MyDrive/Podcasts/HubermanLab/Episode_064_Essentials How to Optimize Testosterone & Estrogen.mp3',\n",
              " '/content/drive/MyDrive/Podcasts/HubermanLab/Episode_066_Essentials How Hormones Shape Sexual Development.mp3',\n",
              " '/content/drive/MyDrive/Podcasts/HubermanLab/Episode_068_Essentials The Science of Emotions & Relationships.mp3',\n",
              " '/content/drive/MyDrive/Podcasts/HubermanLab/Episode_070_Essentials How to Increase Motivation & Drive.mp3',\n",
              " '/content/drive/MyDrive/Podcasts/HubermanLab/Episode_072_Essentials How Foods & Nutrients Control Our Moods.mp3',\n",
              " '/content/drive/MyDrive/Podcasts/HubermanLab/Episode_074_Essentials Tools for Managing Stress & Anxiety.mp3',\n",
              " '/content/drive/MyDrive/Podcasts/HubermanLab/Episode_076_Essentials Control Pain & Heal Faster With Your Brain.mp3',\n",
              " '/content/drive/MyDrive/Podcasts/HubermanLab/Episode_078_Essentials Optimize Your Learning & Creativity With Science-Based Tools.mp3',\n",
              " '/content/drive/MyDrive/Podcasts/HubermanLab/Episode_080_Essentials How to Learn Faster by Using Failures, Movement & Balance.mp3',\n",
              " '/content/drive/MyDrive/Podcasts/HubermanLab/Episode_082_Essentials How to Focus to Change Your Brain.mp3',\n",
              " '/content/drive/MyDrive/Podcasts/HubermanLab/Episode_084_Essentials Understand and Use Dreams to Learn and Forget.mp3',\n",
              " '/content/drive/MyDrive/Podcasts/HubermanLab/Episode_086_Essentials How to Defeat Jet Lag, Shift Work & Sleeplessness.mp3',\n",
              " '/content/drive/MyDrive/Podcasts/HubermanLab/Episode_088_Essentials Using Science to Optimize Sleep, Learning & Metabolism.mp3',\n",
              " '/content/drive/MyDrive/Podcasts/HubermanLab/Episode_090_Essentials Master Your Sleep & Be More Alert When Awake.mp3',\n",
              " '/content/drive/MyDrive/Podcasts/HubermanLab/Episode_092_Essentials How Your Brain Works & Changes.mp3']"
            ]
          },
          "metadata": {},
          "execution_count": 12
        }
      ]
    },
    {
      "cell_type": "markdown",
      "source": [
        "Using OpenAi's Whisper via HuggingFace, we transcript the episode and save it as a txt file"
      ],
      "metadata": {
        "id": "oqpmdeTuineI"
      }
    },
    {
      "cell_type": "code",
      "source": [
        "AUDIO_MODEL = \"openai/whisper-medium\"\n",
        "\n",
        "if torch.cuda.is_available():\n",
        "    device = \"cuda\"\n",
        "    torch_dtype = torch.float16\n",
        "else:\n",
        "    device = \"cpu\"\n",
        "    torch_dtype = torch.float32\n",
        "\n",
        "speech_model = AutoModelForSpeechSeq2Seq.from_pretrained(\n",
        "    AUDIO_MODEL,\n",
        "    torch_dtype=torch_dtype,\n",
        "    low_cpu_mem_usage=True,\n",
        "    use_safetensors=True\n",
        ")\n",
        "speech_model.to(device)\n",
        "processor = AutoProcessor.from_pretrained(AUDIO_MODEL)\n",
        "\n",
        "pipe = pipeline(\n",
        "    \"automatic-speech-recognition\",\n",
        "    model=speech_model,\n",
        "    chunk_length_s=30,\n",
        "    tokenizer=processor.tokenizer,\n",
        "    feature_extractor=processor.feature_extractor,\n",
        "    torch_dtype=torch_dtype,\n",
        "    device=0 if device == \"cuda\" else -1,\n",
        ")"
      ],
      "metadata": {
        "id": "HdQnWEzW3lzP",
        "colab": {
          "base_uri": "https://localhost:8080/",
          "height": 386,
          "referenced_widgets": [
            "25506acfcb784e23ace6aca10bfb947b",
            "f12c513a7e764152b55b841873f8983b",
            "20e6fa9f9b064de8bc6b9c291b6de465",
            "9ec00ac50e9d4d5e884d7430836cdd3d",
            "c02eca3791f248839c72c4e81d846777",
            "2db83b4505cf4009856dfb346fb47191",
            "da9035d6bcdd40f283337a200f3dc84e",
            "92c671eb17eb469cb69b1ff8e2eb5b35",
            "977f5fc99ca34c9ea77297d6a92fd345",
            "e15075bf560348d9b873b9853067e7a9",
            "1948144af399408e86889078ccd83fcb",
            "261bdfaae00d4822b0ba621530b55e95",
            "204af85c82e04ea084aecb1d157c415d",
            "82d5ebe521da4d5992720d7672670153",
            "76f5e117f30348eeadb624076fd4b512",
            "1d8ead0afe8e42b6a4cc8a9c22530e8b",
            "9ffb67ac06754b72a08c0b10a920504a",
            "9b2a63dfb722412a89371557797aabc8",
            "71904007d03746508d688350f2b3a10a",
            "57b4a7107e9249a69741c65d4f2c19e4",
            "130491703ee449198e8348cf73c695b5",
            "b1235d74658545a984f3860bb3806448",
            "c36d6f170ff446f8b744998b39754547",
            "ea2439ed6c174276aa8bf0d670ddf31f",
            "9aeffdc47e7749878bfe8f06fae65106",
            "10ebedc84c524dc1965c00033a4d6942",
            "4e7084ef484644d5957f6bce1b0727c2",
            "3a1a1511116a4990bfa867c5b5930cd7",
            "5cac54b8ca1742439c35681d52799c3c",
            "a2c1fc6d4eed486087aa8534afb802f8",
            "4bcf5dfe454e4e1a9a78d754859e1a84",
            "db1255c9e1194b91b4b4e8751a5507e5",
            "d7b2e7d8f9784dec922860c73dd4c1d0",
            "9790a20c3e664d288c9becb3609abf8c",
            "9a23e89797b7482d93fbe141ab302c03",
            "affde6be2b17485eaa27ba1f440179d3",
            "fcae42d9903e4a7a876218f0edae9f61",
            "33967e11a95d40038ac637149233ce9d",
            "687f2ed35b134e52a4a81abf5d4fbc8d",
            "9f03cb4fb25d4b9f849c822fce40b614",
            "4cdee7e198a145a78d1e8545f8785c8b",
            "498e7f933c044a2fa25e96c82c729a82",
            "0c2771ad7d7e4417ac6b10fe5051856c",
            "8ba00c074759407d87fdabedc0d03118",
            "0d4a738a25214f3cb7c77801dcf982e5",
            "f4013da1a15f4f61ab9a128ed87c0b02",
            "67bccf643b6140fd8ddb5d2444856ce9",
            "0990a7ed4abd4d5d9403505f8417cb3a",
            "efb9a243e2a64ead86df2cb7aafa5d9f",
            "656c90528fd744979fb3cb8f25d5745c",
            "69408a977286491987c2bdf2cb062680",
            "57475484f232481faf5b4765b8a10dbb",
            "ba4d36dc0c6c4d64851263cfdb1f8782",
            "b2b4672c158041f89fd741d315f43e65",
            "f2e6bc86b5e846d8909580887167bd0a",
            "8485095a411648b4add45f78dcad648e",
            "57c0d4c58ab243d79ed8690ce2fad1a1",
            "a91ad75c905b4feb98c67c270122b8d3",
            "228a4a7678754edcbbf6be62c2a65347",
            "e9c9e2d50f83427a8200ed92230ea5a4",
            "171010ccb1b645758411999564b865f2",
            "504680c69efd4a55933e9303ecee1010",
            "1e2ff7b8239a4131860922c91f6f9832",
            "211b237cd33647f19c0578389e5a7d49",
            "e7a963f12a88436a9afac8e168a0484d",
            "c2e349f5c4f84e86aa4a99be66729849",
            "6f558d3dd94a4bd99425f9b75b46408f",
            "4744a976c3b4405da024bdbeae8f3daf",
            "2444f59104284f53b64a5cd9f6199dc1",
            "325a6aef49ba4c38b9adfe4b4349dcd2",
            "fa46a07d9d2542ffa4e67c282030bc3d",
            "dc9c847a7af14836b22fb26b17f2d8bb",
            "1d10b5721fc0486bb04cf5fc31e2ca7c",
            "d44e788c6ee74eecbb139fa1b6b99901",
            "16608600d586494999bd148fbb8170a4",
            "914d1520f5bd4a2fbee40c32c69221c2",
            "c2ffc574aa264c109dc250e712b5c259",
            "67f3379bae604684a2e12e9ecc53d6ac",
            "1321ce17dacd46fa9fd48fb34316f3b3",
            "97bc4ab5be0e4a0f9336c870cddb51bf",
            "ca713c494acb4ef5a38ced9263606dba",
            "a6c6490e72a94b78825ed353dc97c756",
            "820aac34f5d7475091479fa110f21d33",
            "0cb700d1795949e8868850949136f61d",
            "3a0ebaad741547719f280f7246fb2d41",
            "d682b9bb06124b82957807e82670a55e",
            "c4aa3d93d2dd4a938361bc6368b57c34",
            "b7a591f4007b499f967446110666a5c2",
            "a02fd5f738fa4e94a5d47deb06904de8",
            "6ae3c36e1cde4fe38be55ac475aea633",
            "6cd0a056b5104f3689dc38b37c0b5513",
            "b4f7066c9b2a40be82362dd3ce97b787",
            "aced8856dc324176b1c5ecc3841af96c",
            "771ba2bac776496480704aa1a8fc14ca",
            "8d77d57fdfdf4be48be9ad871e605360",
            "ba17e5faf6cf4b6fa4efb43f03f5403f",
            "839a01d40ba540de9bee63e6f76634a9",
            "3ae700a67f084379bd77bd09472ff459",
            "5c53c58514c34cd8b73997ab6f33d2f0",
            "e39e75b8ec354fa39f199583156c330a",
            "ed3430f31924449ebb9761faff14881e",
            "4b4bf1b5849149e8b8a2d6cd1c1b213b",
            "8187d0eae9fe46379e73cd8f43534c31",
            "b4830513827845da9b570ad10f1d6b26",
            "a74050e486a8499aa8ffe42887ce10ea",
            "6e6cf05bc29e4ebba5adb01574fd3057",
            "88f8e4f56a6f49a28b04f5fae56ae34e",
            "b01828d147a3475da92fa5d02c0a6351",
            "a19d9a752e3a4fb19314e0bb72564155",
            "ade2d5097f5c47ddb1320b64f206f083",
            "1560e43484e349a3a2e706139a4859f4",
            "4e1bca53d86541338b84f894a69b756f",
            "899d9fdcc1764953b7ceeb58a877685d",
            "d6db231d4d0d4c52b9c22c16434c072b",
            "3cae346629dc4d7dbe9325d0e00e79bb",
            "c497a4a181c0433198232477379bfdfb",
            "2d30e25e23d24e2eba451b66811ce589",
            "91194c98db5e4f32ab5bd2b304138028",
            "1253221ab53849c0a056e7d9e7a0c6c5",
            "348f3b13f4174ead94f5843a7790ed4b",
            "0fbe14687593464bace62457268b477e"
          ]
        },
        "outputId": "46d1e5bb-f36a-4043-e208-7a4eb7d71b1c"
      },
      "execution_count": null,
      "outputs": [
        {
          "output_type": "display_data",
          "data": {
            "text/plain": [
              "config.json: 0.00B [00:00, ?B/s]"
            ],
            "application/vnd.jupyter.widget-view+json": {
              "version_major": 2,
              "version_minor": 0,
              "model_id": "25506acfcb784e23ace6aca10bfb947b"
            }
          },
          "metadata": {}
        },
        {
          "output_type": "display_data",
          "data": {
            "text/plain": [
              "model.safetensors:   0%|          | 0.00/3.06G [00:00<?, ?B/s]"
            ],
            "application/vnd.jupyter.widget-view+json": {
              "version_major": 2,
              "version_minor": 0,
              "model_id": "261bdfaae00d4822b0ba621530b55e95"
            }
          },
          "metadata": {}
        },
        {
          "output_type": "display_data",
          "data": {
            "text/plain": [
              "generation_config.json: 0.00B [00:00, ?B/s]"
            ],
            "application/vnd.jupyter.widget-view+json": {
              "version_major": 2,
              "version_minor": 0,
              "model_id": "c36d6f170ff446f8b744998b39754547"
            }
          },
          "metadata": {}
        },
        {
          "output_type": "display_data",
          "data": {
            "text/plain": [
              "preprocessor_config.json: 0.00B [00:00, ?B/s]"
            ],
            "application/vnd.jupyter.widget-view+json": {
              "version_major": 2,
              "version_minor": 0,
              "model_id": "9790a20c3e664d288c9becb3609abf8c"
            }
          },
          "metadata": {}
        },
        {
          "output_type": "display_data",
          "data": {
            "text/plain": [
              "tokenizer_config.json: 0.00B [00:00, ?B/s]"
            ],
            "application/vnd.jupyter.widget-view+json": {
              "version_major": 2,
              "version_minor": 0,
              "model_id": "0d4a738a25214f3cb7c77801dcf982e5"
            }
          },
          "metadata": {}
        },
        {
          "output_type": "display_data",
          "data": {
            "text/plain": [
              "vocab.json: 0.00B [00:00, ?B/s]"
            ],
            "application/vnd.jupyter.widget-view+json": {
              "version_major": 2,
              "version_minor": 0,
              "model_id": "8485095a411648b4add45f78dcad648e"
            }
          },
          "metadata": {}
        },
        {
          "output_type": "display_data",
          "data": {
            "text/plain": [
              "tokenizer.json: 0.00B [00:00, ?B/s]"
            ],
            "application/vnd.jupyter.widget-view+json": {
              "version_major": 2,
              "version_minor": 0,
              "model_id": "6f558d3dd94a4bd99425f9b75b46408f"
            }
          },
          "metadata": {}
        },
        {
          "output_type": "display_data",
          "data": {
            "text/plain": [
              "merges.txt: 0.00B [00:00, ?B/s]"
            ],
            "application/vnd.jupyter.widget-view+json": {
              "version_major": 2,
              "version_minor": 0,
              "model_id": "67f3379bae604684a2e12e9ecc53d6ac"
            }
          },
          "metadata": {}
        },
        {
          "output_type": "display_data",
          "data": {
            "text/plain": [
              "normalizer.json: 0.00B [00:00, ?B/s]"
            ],
            "application/vnd.jupyter.widget-view+json": {
              "version_major": 2,
              "version_minor": 0,
              "model_id": "a02fd5f738fa4e94a5d47deb06904de8"
            }
          },
          "metadata": {}
        },
        {
          "output_type": "display_data",
          "data": {
            "text/plain": [
              "added_tokens.json: 0.00B [00:00, ?B/s]"
            ],
            "application/vnd.jupyter.widget-view+json": {
              "version_major": 2,
              "version_minor": 0,
              "model_id": "e39e75b8ec354fa39f199583156c330a"
            }
          },
          "metadata": {}
        },
        {
          "output_type": "display_data",
          "data": {
            "text/plain": [
              "special_tokens_map.json: 0.00B [00:00, ?B/s]"
            ],
            "application/vnd.jupyter.widget-view+json": {
              "version_major": 2,
              "version_minor": 0,
              "model_id": "1560e43484e349a3a2e706139a4859f4"
            }
          },
          "metadata": {}
        },
        {
          "output_type": "stream",
          "name": "stderr",
          "text": [
            "Device set to use cuda:0\n"
          ]
        }
      ]
    },
    {
      "cell_type": "code",
      "source": [
        "# for file_path in files_path:\n",
        "#     result = pipe(file_path)\n",
        "#     transcription = result['text']\n",
        "\n",
        "#     transcript_path = replace_extension(file_path, \"txt\")\n",
        "#     with open(transcript_path, \"w\", encoding=\"utf-8\") as f:\n",
        "#         f.write(transcription)\n",
        "\n",
        "#     print(f'Transcription saved to {transcript_path}')\n",
        "\n",
        "#colab finished the the session during the transcri´tion because of free tier limits, therefore, we add some if-continue to restore the session next day from where it stopped.\n",
        "\n",
        "for file_path in files_path:\n",
        "    transcript_path = replace_extension(file_path, \"txt\")\n",
        "\n",
        "    if os.path.exists(transcript_path):\n",
        "        print(f\"Transcript already exists for {file_path}, skipping...\")\n",
        "        continue\n",
        "\n",
        "    # Run transcription only if not already saved\n",
        "    result = pipe(file_path)\n",
        "    transcription = result['text']\n",
        "\n",
        "    with open(transcript_path, \"w\", encoding=\"utf-8\") as f:\n",
        "        f.write(transcription)\n",
        "\n",
        "    print(f\"Transcription saved to {transcript_path}\")"
      ],
      "metadata": {
        "colab": {
          "base_uri": "https://localhost:8080/"
        },
        "id": "DZxk80K7RrS9",
        "outputId": "4b7118a7-9155-48c0-90ba-b98cf313c78b"
      },
      "execution_count": null,
      "outputs": [
        {
          "output_type": "stream",
          "name": "stdout",
          "text": [
            "Transcript already exists for /content/drive/MyDrive/Podcasts/HubermanLab/Episode_001_Essentials Using Your Nervous System to Enhance Your Immune System.mp3, skipping...\n",
            "Transcript already exists for /content/drive/MyDrive/Podcasts/HubermanLab/Episode_003_Essentials How to Exercise for Strength Gains & Hormone Optimization Dr. Duncan French.mp3, skipping...\n",
            "Transcript already exists for /content/drive/MyDrive/Podcasts/HubermanLab/Episode_005_Essentials Food & Supplements for Brain Health & Cognitive Performance.mp3, skipping...\n",
            "Transcript already exists for /content/drive/MyDrive/Podcasts/HubermanLab/Episode_007_Essentials Science of Mindsets for Health & Performance Dr. Alia Crum.mp3, skipping...\n",
            "Transcript already exists for /content/drive/MyDrive/Podcasts/HubermanLab/Episode_009_Essentials Effects of Fasting & Time Restricted Eating on Fat Loss & Health.mp3, skipping...\n",
            "Transcript already exists for /content/drive/MyDrive/Podcasts/HubermanLab/Episode_011_Essentials Timing Light for Better Sleep, Energy & Mood Dr. Samer Hattar.mp3, skipping...\n",
            "Transcript already exists for /content/drive/MyDrive/Podcasts/HubermanLab/Episode_013_Essentials Controlling Your Dopamine for Motivation, Focus & Satisfaction.mp3, skipping...\n",
            "Transcript already exists for /content/drive/MyDrive/Podcasts/HubermanLab/Episode_015_Essentials Increase Strength & Endurance with Cooling Protocols Dr. Craig Heller.mp3, skipping...\n",
            "Transcript already exists for /content/drive/MyDrive/Podcasts/HubermanLab/Episode_017_Essentials ADHD & How Anyone Can Improve Their Focus.mp3, skipping...\n",
            "Transcript already exists for /content/drive/MyDrive/Podcasts/HubermanLab/Episode_019_Essentials Psychedelics for Treating Mental Disorders Dr. Matthew Johnson.mp3, skipping...\n",
            "Transcript already exists for /content/drive/MyDrive/Podcasts/HubermanLab/Episode_021_Essentials Healthy Eating & Eating Disorders - Anorexia, Bulimia, Binging.mp3, skipping...\n",
            "Transcript already exists for /content/drive/MyDrive/Podcasts/HubermanLab/Episode_023_Essentials Science of Stress, Testosterone, Aggression & Motivation Dr. Robert Sapolsky.mp3, skipping...\n",
            "Transcript already exists for /content/drive/MyDrive/Podcasts/HubermanLab/Episode_025_Essentials Understanding & Conquering Depression.mp3, skipping...\n",
            "Transcript already exists for /content/drive/MyDrive/Podcasts/HubermanLab/Episode_027_Essentials Understanding & Treating Addiction Dr. Anna Lembke.mp3, skipping...\n",
            "Transcript already exists for /content/drive/MyDrive/Podcasts/HubermanLab/Episode_029_Essentials How to Control Your Sense of Pain & Pleasure.mp3, skipping...\n",
            "Transcript already exists for /content/drive/MyDrive/Podcasts/HubermanLab/Episode_031_Essentials The Science & Practice of Perfecting Your Sleep.mp3, skipping...\n",
            "Transcript already exists for /content/drive/MyDrive/Podcasts/HubermanLab/Episode_033_Essentials Improving Health With Stronger Brain-Body Connection.mp3, skipping...\n",
            "Transcript already exists for /content/drive/MyDrive/Podcasts/HubermanLab/Episode_035_Essentials Machines, Creativity & Love Dr. Lex Fridman.mp3, skipping...\n",
            "Transcript already exists for /content/drive/MyDrive/Podcasts/HubermanLab/Episode_037_Essentials Maximize Productivity, Physical & Mental Health With Daily Tools.mp3, skipping...\n",
            "Transcript already exists for /content/drive/MyDrive/Podcasts/HubermanLab/Episode_039_Essentials Understanding & Healing the Mind Dr. Karl Deisseroth.mp3, skipping...\n",
            "Transcript already exists for /content/drive/MyDrive/Podcasts/HubermanLab/Episode_041_Essentials How Hearing & Balance Enhance Focus & Learning.mp3, skipping...\n",
            "Transcript already exists for /content/drive/MyDrive/Podcasts/HubermanLab/Episode_043_Essentials How Smell, Taste & Pheromones Shape Behavior.mp3, skipping...\n",
            "Transcript already exists for /content/drive/MyDrive/Podcasts/HubermanLab/Episode_046_Essentials Protocols to Improve Vision & Eyesight.mp3, skipping...\n",
            "Transcript already exists for /content/drive/MyDrive/Podcasts/HubermanLab/Episode_048_Essentials How to Build Endurance.mp3, skipping...\n",
            "Transcript already exists for /content/drive/MyDrive/Podcasts/HubermanLab/Episode_050_Essentials Build Muscle Size, Increase Strength & Improve Recovery.mp3, skipping...\n",
            "Transcript already exists for /content/drive/MyDrive/Podcasts/HubermanLab/Episode_052_Essentials Lose Fat With Science-Based Tools.mp3, skipping...\n",
            "Transcript already exists for /content/drive/MyDrive/Podcasts/HubermanLab/Episode_054_Essentials How to Learn Skills Faster.mp3, skipping...\n",
            "Transcript already exists for /content/drive/MyDrive/Podcasts/HubermanLab/Episode_056_Essentials Supercharge Exercise Performance & Recovery with Cooling.mp3, skipping...\n",
            "Transcript already exists for /content/drive/MyDrive/Podcasts/HubermanLab/Episode_058_Essentials Boost Your Energy & Immune System with Cortisol & Adrenaline.mp3, skipping...\n",
            "Transcript already exists for /content/drive/MyDrive/Podcasts/HubermanLab/Episode_060_Essentials How to Control Your Metabolism by Thyroid & Growth Hormone.mp3, skipping...\n",
            "Transcript already exists for /content/drive/MyDrive/Podcasts/HubermanLab/Episode_062_Essentials How to Control Hunger, Eating & Satiety.mp3, skipping...\n",
            "Transcript already exists for /content/drive/MyDrive/Podcasts/HubermanLab/Episode_064_Essentials How to Optimize Testosterone & Estrogen.mp3, skipping...\n",
            "Transcript already exists for /content/drive/MyDrive/Podcasts/HubermanLab/Episode_066_Essentials How Hormones Shape Sexual Development.mp3, skipping...\n",
            "Transcript already exists for /content/drive/MyDrive/Podcasts/HubermanLab/Episode_068_Essentials The Science of Emotions & Relationships.mp3, skipping...\n",
            "Transcript already exists for /content/drive/MyDrive/Podcasts/HubermanLab/Episode_070_Essentials How to Increase Motivation & Drive.mp3, skipping...\n",
            "Transcript already exists for /content/drive/MyDrive/Podcasts/HubermanLab/Episode_072_Essentials How Foods & Nutrients Control Our Moods.mp3, skipping...\n",
            "Transcript already exists for /content/drive/MyDrive/Podcasts/HubermanLab/Episode_074_Essentials Tools for Managing Stress & Anxiety.mp3, skipping...\n",
            "Transcript already exists for /content/drive/MyDrive/Podcasts/HubermanLab/Episode_076_Essentials Control Pain & Heal Faster With Your Brain.mp3, skipping...\n",
            "Transcript already exists for /content/drive/MyDrive/Podcasts/HubermanLab/Episode_078_Essentials Optimize Your Learning & Creativity With Science-Based Tools.mp3, skipping...\n",
            "Transcript already exists for /content/drive/MyDrive/Podcasts/HubermanLab/Episode_080_Essentials How to Learn Faster by Using Failures, Movement & Balance.mp3, skipping...\n",
            "Transcript already exists for /content/drive/MyDrive/Podcasts/HubermanLab/Episode_082_Essentials How to Focus to Change Your Brain.mp3, skipping...\n",
            "Transcript already exists for /content/drive/MyDrive/Podcasts/HubermanLab/Episode_084_Essentials Understand and Use Dreams to Learn and Forget.mp3, skipping...\n",
            "Transcript already exists for /content/drive/MyDrive/Podcasts/HubermanLab/Episode_086_Essentials How to Defeat Jet Lag, Shift Work & Sleeplessness.mp3, skipping...\n",
            "Transcript already exists for /content/drive/MyDrive/Podcasts/HubermanLab/Episode_088_Essentials Using Science to Optimize Sleep, Learning & Metabolism.mp3, skipping...\n",
            "Transcript already exists for /content/drive/MyDrive/Podcasts/HubermanLab/Episode_090_Essentials Master Your Sleep & Be More Alert When Awake.mp3, skipping...\n"
          ]
        },
        {
          "output_type": "stream",
          "name": "stderr",
          "text": [
            "/usr/local/lib/python3.12/dist-packages/transformers/models/whisper/generation_whisper.py:573: FutureWarning: The input name `inputs` is deprecated. Please make sure to use `input_features` instead.\n",
            "  warnings.warn(\n",
            "Due to a bug fix in https://github.com/huggingface/transformers/pull/28687 transcription using a multilingual Whisper will default to language detection followed by transcription instead of translation to English.This might be a breaking change for your use case. If you want to instead always translate your audio to English, make sure to pass `language='en'`.\n",
            "Passing a tuple of `past_key_values` is deprecated and will be removed in Transformers v4.43.0. You should pass an instance of `EncoderDecoderCache` instead, e.g. `past_key_values=EncoderDecoderCache.from_legacy_cache(past_key_values)`.\n",
            "The attention mask is not set and cannot be inferred from input because pad token is same as eos token. As a consequence, you may observe unexpected behavior. Please pass your input's `attention_mask` to obtain reliable results.\n"
          ]
        },
        {
          "output_type": "stream",
          "name": "stdout",
          "text": [
            "Transcription saved to /content/drive/MyDrive/Podcasts/HubermanLab/Episode_092_Essentials How Your Brain Works & Changes.txt\n"
          ]
        }
      ]
    },
    {
      "cell_type": "markdown",
      "source": [
        "Now, using OpenAi's API and GPT-4o mini, we will make a summary of the txt file. We also save the markdown file in our Google Drive."
      ],
      "metadata": {
        "id": "r-k88aNyiyhE"
      }
    },
    {
      "cell_type": "code",
      "source": [
        "system_message = (\n",
        "    \"You are an assistant that summarizes podcast episodes in a detailed and exhaustive manner, \"\n",
        "    \"extracting all key points, topics discussed, insights, and notable quotes, \"\n",
        "    \"in structured markdown format.\"\n",
        ")\n",
        "\n",
        "for file_path in files_path:\n",
        "    # Read transcript\n",
        "    with open(replace_extension(file_path, \"txt\"), \"r\", encoding=\"utf-8\") as f:\n",
        "        transcription = f.read()\n",
        "\n",
        "    # Build prompt\n",
        "    user_prompt = f\"\"\"\n",
        "    Below is the transcript of a podcast episode.\n",
        "    Please write an exhaustive and detailed summary in markdown, including:\n",
        "    - A full overview of the episode\n",
        "    - All key topics discussed\n",
        "    - Important insights or conclusions\n",
        "    - Notable quotes\n",
        "    - Any actionable ideas or takeaways\n",
        "\n",
        "    Transcript:\n",
        "    {transcription}\n",
        "    \"\"\"\n",
        "\n",
        "    messages = [\n",
        "        {\"role\": \"system\", \"content\": system_message},\n",
        "        {\"role\": \"user\", \"content\": user_prompt}\n",
        "    ]\n",
        "\n",
        "    # Call the API\n",
        "    response = openai.chat.completions.create(\n",
        "        model=\"gpt-4o-mini\",\n",
        "        messages=messages,\n",
        "        max_tokens=8000,\n",
        "    )\n",
        "\n",
        "    summary = response.choices[0].message.content\n",
        "\n",
        "    # Save summary\n",
        "    summary_path = replace_extension(file_path, \"md\")\n",
        "    with open(summary_path, \"w\", encoding=\"utf-8\") as f:\n",
        "        f.write(summary)\n",
        "\n",
        "    print(f\"Summary saved to {summary_path}\")\n"
      ],
      "metadata": {
        "id": "jm6C3V-JSATo",
        "colab": {
          "base_uri": "https://localhost:8080/"
        },
        "outputId": "98e35eb2-c5d8-41a8-e44a-5c2a368739c6"
      },
      "execution_count": null,
      "outputs": [
        {
          "output_type": "stream",
          "name": "stdout",
          "text": [
            "Summary saved to /content/drive/MyDrive/Podcasts/HubermanLab/Episode_001_Essentials Using Your Nervous System to Enhance Your Immune System.md\n",
            "Summary saved to /content/drive/MyDrive/Podcasts/HubermanLab/Episode_003_Essentials How to Exercise for Strength Gains & Hormone Optimization Dr. Duncan French.md\n",
            "Summary saved to /content/drive/MyDrive/Podcasts/HubermanLab/Episode_005_Essentials Food & Supplements for Brain Health & Cognitive Performance.md\n",
            "Summary saved to /content/drive/MyDrive/Podcasts/HubermanLab/Episode_007_Essentials Science of Mindsets for Health & Performance Dr. Alia Crum.md\n",
            "Summary saved to /content/drive/MyDrive/Podcasts/HubermanLab/Episode_009_Essentials Effects of Fasting & Time Restricted Eating on Fat Loss & Health.md\n",
            "Summary saved to /content/drive/MyDrive/Podcasts/HubermanLab/Episode_011_Essentials Timing Light for Better Sleep, Energy & Mood Dr. Samer Hattar.md\n",
            "Summary saved to /content/drive/MyDrive/Podcasts/HubermanLab/Episode_013_Essentials Controlling Your Dopamine for Motivation, Focus & Satisfaction.md\n",
            "Summary saved to /content/drive/MyDrive/Podcasts/HubermanLab/Episode_015_Essentials Increase Strength & Endurance with Cooling Protocols Dr. Craig Heller.md\n",
            "Summary saved to /content/drive/MyDrive/Podcasts/HubermanLab/Episode_017_Essentials ADHD & How Anyone Can Improve Their Focus.md\n",
            "Summary saved to /content/drive/MyDrive/Podcasts/HubermanLab/Episode_019_Essentials Psychedelics for Treating Mental Disorders Dr. Matthew Johnson.md\n",
            "Summary saved to /content/drive/MyDrive/Podcasts/HubermanLab/Episode_021_Essentials Healthy Eating & Eating Disorders - Anorexia, Bulimia, Binging.md\n",
            "Summary saved to /content/drive/MyDrive/Podcasts/HubermanLab/Episode_023_Essentials Science of Stress, Testosterone, Aggression & Motivation Dr. Robert Sapolsky.md\n",
            "Summary saved to /content/drive/MyDrive/Podcasts/HubermanLab/Episode_025_Essentials Understanding & Conquering Depression.md\n",
            "Summary saved to /content/drive/MyDrive/Podcasts/HubermanLab/Episode_027_Essentials Understanding & Treating Addiction Dr. Anna Lembke.md\n",
            "Summary saved to /content/drive/MyDrive/Podcasts/HubermanLab/Episode_029_Essentials How to Control Your Sense of Pain & Pleasure.md\n",
            "Summary saved to /content/drive/MyDrive/Podcasts/HubermanLab/Episode_031_Essentials The Science & Practice of Perfecting Your Sleep.md\n",
            "Summary saved to /content/drive/MyDrive/Podcasts/HubermanLab/Episode_033_Essentials Improving Health With Stronger Brain-Body Connection.md\n",
            "Summary saved to /content/drive/MyDrive/Podcasts/HubermanLab/Episode_035_Essentials Machines, Creativity & Love Dr. Lex Fridman.md\n",
            "Summary saved to /content/drive/MyDrive/Podcasts/HubermanLab/Episode_037_Essentials Maximize Productivity, Physical & Mental Health With Daily Tools.md\n",
            "Summary saved to /content/drive/MyDrive/Podcasts/HubermanLab/Episode_039_Essentials Understanding & Healing the Mind Dr. Karl Deisseroth.md\n",
            "Summary saved to /content/drive/MyDrive/Podcasts/HubermanLab/Episode_041_Essentials How Hearing & Balance Enhance Focus & Learning.md\n",
            "Summary saved to /content/drive/MyDrive/Podcasts/HubermanLab/Episode_043_Essentials How Smell, Taste & Pheromones Shape Behavior.md\n",
            "Summary saved to /content/drive/MyDrive/Podcasts/HubermanLab/Episode_046_Essentials Protocols to Improve Vision & Eyesight.md\n",
            "Summary saved to /content/drive/MyDrive/Podcasts/HubermanLab/Episode_048_Essentials How to Build Endurance.md\n",
            "Summary saved to /content/drive/MyDrive/Podcasts/HubermanLab/Episode_050_Essentials Build Muscle Size, Increase Strength & Improve Recovery.md\n",
            "Summary saved to /content/drive/MyDrive/Podcasts/HubermanLab/Episode_052_Essentials Lose Fat With Science-Based Tools.md\n",
            "Summary saved to /content/drive/MyDrive/Podcasts/HubermanLab/Episode_054_Essentials How to Learn Skills Faster.md\n",
            "Summary saved to /content/drive/MyDrive/Podcasts/HubermanLab/Episode_056_Essentials Supercharge Exercise Performance & Recovery with Cooling.md\n",
            "Summary saved to /content/drive/MyDrive/Podcasts/HubermanLab/Episode_058_Essentials Boost Your Energy & Immune System with Cortisol & Adrenaline.md\n",
            "Summary saved to /content/drive/MyDrive/Podcasts/HubermanLab/Episode_060_Essentials How to Control Your Metabolism by Thyroid & Growth Hormone.md\n",
            "Summary saved to /content/drive/MyDrive/Podcasts/HubermanLab/Episode_062_Essentials How to Control Hunger, Eating & Satiety.md\n",
            "Summary saved to /content/drive/MyDrive/Podcasts/HubermanLab/Episode_064_Essentials How to Optimize Testosterone & Estrogen.md\n",
            "Summary saved to /content/drive/MyDrive/Podcasts/HubermanLab/Episode_066_Essentials How Hormones Shape Sexual Development.md\n",
            "Summary saved to /content/drive/MyDrive/Podcasts/HubermanLab/Episode_068_Essentials The Science of Emotions & Relationships.md\n",
            "Summary saved to /content/drive/MyDrive/Podcasts/HubermanLab/Episode_070_Essentials How to Increase Motivation & Drive.md\n",
            "Summary saved to /content/drive/MyDrive/Podcasts/HubermanLab/Episode_072_Essentials How Foods & Nutrients Control Our Moods.md\n",
            "Summary saved to /content/drive/MyDrive/Podcasts/HubermanLab/Episode_074_Essentials Tools for Managing Stress & Anxiety.md\n",
            "Summary saved to /content/drive/MyDrive/Podcasts/HubermanLab/Episode_076_Essentials Control Pain & Heal Faster With Your Brain.md\n",
            "Summary saved to /content/drive/MyDrive/Podcasts/HubermanLab/Episode_078_Essentials Optimize Your Learning & Creativity With Science-Based Tools.md\n",
            "Summary saved to /content/drive/MyDrive/Podcasts/HubermanLab/Episode_080_Essentials How to Learn Faster by Using Failures, Movement & Balance.md\n",
            "Summary saved to /content/drive/MyDrive/Podcasts/HubermanLab/Episode_082_Essentials How to Focus to Change Your Brain.md\n",
            "Summary saved to /content/drive/MyDrive/Podcasts/HubermanLab/Episode_084_Essentials Understand and Use Dreams to Learn and Forget.md\n",
            "Summary saved to /content/drive/MyDrive/Podcasts/HubermanLab/Episode_086_Essentials How to Defeat Jet Lag, Shift Work & Sleeplessness.md\n",
            "Summary saved to /content/drive/MyDrive/Podcasts/HubermanLab/Episode_088_Essentials Using Science to Optimize Sleep, Learning & Metabolism.md\n",
            "Summary saved to /content/drive/MyDrive/Podcasts/HubermanLab/Episode_090_Essentials Master Your Sleep & Be More Alert When Awake.md\n",
            "Summary saved to /content/drive/MyDrive/Podcasts/HubermanLab/Episode_092_Essentials How Your Brain Works & Changes.md\n"
          ]
        }
      ]
    },
    {
      "cell_type": "markdown",
      "source": [
        "Let's finish checking one of our Markdown summaries made by GPT-4o mini!"
      ],
      "metadata": {
        "id": "aSAwpoYtx_Uy"
      }
    },
    {
      "cell_type": "code",
      "source": [
        "with open(replace_extension(files_path[10],'md'), \"r\", encoding=\"utf-8\") as f:\n",
        "    content = f.read()\n",
        "\n",
        "display(Markdown(content))"
      ],
      "metadata": {
        "colab": {
          "base_uri": "https://localhost:8080/",
          "height": 1000
        },
        "id": "8tkaAXVbxtkJ",
        "outputId": "21bbe1b1-c9cc-4308-a3f4-b2b9d998b0d3"
      },
      "execution_count": null,
      "outputs": [
        {
          "output_type": "display_data",
          "data": {
            "text/plain": [
              "<IPython.core.display.Markdown object>"
            ],
            "text/markdown": "# Podcast Episode Summary: Huberman Lab Essentials - Healthy and Disordered Eating\n\n## Overview of the Episode\nIn this episode of Huberman Lab Essentials, Andrew Huberman revisits the topic of eating, addressing both healthy eating habits and the psychological and physiological complexities of disordered eating. He provides a thorough examination of various eating disorders, including anorexia nervosa, bulimia, and binge eating disorder. Throughout the discussion, Huberman emphasizes the importance of understanding individual differences in nutritional needs, the biological underpinnings of eating behaviors, and the psychological impacts of these disorders. He highlights the necessity for qualified diagnosis and treatment, addressing misconceptions surrounding eating disorders, and advocating for a healthy relationship with food.\n\n## Key Topics Discussed\n1. **Healthy Eating vs. Disordered Eating**\n   - Importance of a healthy psychological relationship with food.\n   - Overview of eating frequency and its impact on metabolism and appetite.\n\n2. **Intermittent Fasting**\n   - Definition and variations of intermittent fasting.\n   - Health benefits, including improved insulin sensitivity and metabolic parameters.\n   - Discussion on individual responses to different eating patterns.\n\n3. **Understanding Eating Disorders**\n   - Overview of clinically recognized eating disorders:\n     - **Anorexia Nervosa:** Failure to consume enough energy, with the highest mortality rate among psychiatric disorders.\n     - **Bulimia Nervosa:** Binge eating followed by purging.\n     - **Binge Eating Disorder:** Frequent overeating without purging.\n   - Psychological foundations and biological factors contributing to these disorders.\n\n4. **Body Mechanisms and Communication**\n   - Mechanisms of hunger and satiety regulated by the brain and hormonal signals.\n   - Role of the hypothalamus in appetite regulation and the function of specific neurons.\n   - Influence of mechanical and chemical cues on eating behavior.\n\n5. **The Role of Environment and Social Context**\n   - The impact of culture and familial dynamics on eating behaviors.\n   - Importance of societal norms and individual variability in what constitutes healthy eating.\n\n6. **Self-Diagnosis and Professional Help**\n   - The risks of self-diagnosing eating disorders.\n   - The necessity of seeking professional help for diagnosis and treatment.\n\n7. **Psychological Insights on Eating Disorders**\n   - Distorted self-image in anorexia and the misconceptions surrounding perfectionism.\n   - Hyper-focus on food details in individuals with anorexia and implications for behavior change.\n\n8. **Treatment and Recovery Strategies**\n   - Importance of cognitive-behavioral therapy (CBT) and family-based models.\n   - Drugs and behavioral interventions for bulimia and binge eating disorder.\n   - Strategies to help individuals identify and rewire harmful food habits.\n\n## Important Insights or Conclusions\n- **Eating Disorders Are Complex:** They involve a combination of genetic, environmental, psychological, and social factors. Understanding these complexities is crucial for treatment.\n- **Fluid Needs and Electrolytes:** Importance of hydration and electrolyte balance during fasting. The brain's function relies heavily on sodium, potassium, and magnesium levels.\n- **Individual Variability:** There is no universal \"best\" eating pattern for all; individual experiences and cultural contexts play significant roles in dietary choices.\n- **Neuroplasticity:** Educational approaches and therapy can promote change in behaviors related to eating, indicating that individuals can improve their relationship with food through informed interventions.\n\n## Notable Quotes\n- \"Nobody knows what truly healthy eating is. We only know the measurements we can take.\"\n- \"Anorexia is the most dangerous psychiatric disorder of all, even more than depression.\"\n- \"The probability of death for untreated anorexia is very high.\"\n- \"Neurons can only be electrically active by way of movement of particular ions, which include things like sodium, potassium, and magnesium.\"\n- \"Understanding what leads up to a habit can be the exact point for changing behaviors.\"\n\n## Actionable Ideas or Takeaways\n- **Monitor Your Relationship with Food:** Be mindful of your eating behaviors and how they relate to your emotional and physical health.\n- **Seek Professional Help:** If you or someone you know might be struggling with disordered eating, consulting a qualified healthcare professional is critical.\n- **Educate Yourself on Nutrition:** Understanding your body’s nutritional needs can help in developing a healthier relationship with food.\n- **Practice Mindfulness:** Being aware of hunger and satiety signals can aid in better eating habits and decision-making regarding food.\n- **Encourage Open Dialogues:** Foster discussions about food, body image, and mental health in supportive environments to reduce stigma and promote understanding.\n\nThis podcast episode serves as a comprehensive guide to understanding the nuances and complexities surrounding eating behaviors, particularly in the context of eating disorders, while emphasizing the importance of informed choices and professional guidance."
          },
          "metadata": {}
        }
      ]
    }
  ]
}